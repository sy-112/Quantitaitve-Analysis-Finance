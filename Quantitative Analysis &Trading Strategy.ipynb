{
 "cells": [
  {
   "cell_type": "markdown",
   "id": "7512967d",
   "metadata": {},
   "source": [
    "# Quantitative Analysis and Trading Strategy"
   ]
  },
  {
   "cell_type": "markdown",
   "id": "69807f33",
   "metadata": {},
   "source": [
    "ESG funds are an increasingly popular segment of the ETF marketplace, offering values-driven investors a diverse portfolio of stocks without compromising their conscience.Vanguard ESG U.S. Stock ETF is one of the best performing and popular ESG ETF that tracks an index of U.S. stocks that are screened based on environmental, social, and governance (ESG) criteria.\n"
   ]
  },
  {
   "cell_type": "code",
   "execution_count": 6,
   "id": "5758d272",
   "metadata": {},
   "outputs": [],
   "source": [
    "import numpy as np \n",
    "import pandas as pd\n",
    "import pandas_datareader as pdr\n",
    "import matplotlib.pyplot as plt\n",
    "from matplotlib import rcParams\n",
    "rcParams['figure.figsize'] = 8, 6\n",
    "import seaborn as sb\n",
    "sb.set()"
   ]
  },
  {
   "cell_type": "code",
   "execution_count": 7,
   "id": "52dd0f67",
   "metadata": {},
   "outputs": [
    {
     "data": {
      "text/html": [
       "<div>\n",
       "<style scoped>\n",
       "    .dataframe tbody tr th:only-of-type {\n",
       "        vertical-align: middle;\n",
       "    }\n",
       "\n",
       "    .dataframe tbody tr th {\n",
       "        vertical-align: top;\n",
       "    }\n",
       "\n",
       "    .dataframe thead th {\n",
       "        text-align: right;\n",
       "    }\n",
       "</style>\n",
       "<table border=\"1\" class=\"dataframe\">\n",
       "  <thead>\n",
       "    <tr style=\"text-align: right;\">\n",
       "      <th></th>\n",
       "      <th>High</th>\n",
       "      <th>Low</th>\n",
       "      <th>Open</th>\n",
       "      <th>Close</th>\n",
       "      <th>Volume</th>\n",
       "      <th>Adj Close</th>\n",
       "    </tr>\n",
       "    <tr>\n",
       "      <th>Date</th>\n",
       "      <th></th>\n",
       "      <th></th>\n",
       "      <th></th>\n",
       "      <th></th>\n",
       "      <th></th>\n",
       "      <th></th>\n",
       "    </tr>\n",
       "  </thead>\n",
       "  <tbody>\n",
       "    <tr>\n",
       "      <th>2018-09-20</th>\n",
       "      <td>50.520000</td>\n",
       "      <td>50.340000</td>\n",
       "      <td>50.410000</td>\n",
       "      <td>50.490002</td>\n",
       "      <td>13000.0</td>\n",
       "      <td>48.506279</td>\n",
       "    </tr>\n",
       "    <tr>\n",
       "      <th>2018-09-21</th>\n",
       "      <td>51.500000</td>\n",
       "      <td>50.400002</td>\n",
       "      <td>51.500000</td>\n",
       "      <td>50.400002</td>\n",
       "      <td>13700.0</td>\n",
       "      <td>48.419807</td>\n",
       "    </tr>\n",
       "    <tr>\n",
       "      <th>2018-09-24</th>\n",
       "      <td>51.299999</td>\n",
       "      <td>50.119999</td>\n",
       "      <td>51.299999</td>\n",
       "      <td>50.240002</td>\n",
       "      <td>14300.0</td>\n",
       "      <td>48.266090</td>\n",
       "    </tr>\n",
       "    <tr>\n",
       "      <th>2018-09-25</th>\n",
       "      <td>50.400002</td>\n",
       "      <td>50.200001</td>\n",
       "      <td>50.400002</td>\n",
       "      <td>50.250000</td>\n",
       "      <td>25800.0</td>\n",
       "      <td>48.275700</td>\n",
       "    </tr>\n",
       "    <tr>\n",
       "      <th>2018-09-26</th>\n",
       "      <td>50.369999</td>\n",
       "      <td>50.020000</td>\n",
       "      <td>50.360001</td>\n",
       "      <td>50.020000</td>\n",
       "      <td>27000.0</td>\n",
       "      <td>48.054737</td>\n",
       "    </tr>\n",
       "  </tbody>\n",
       "</table>\n",
       "</div>"
      ],
      "text/plain": [
       "                 High        Low       Open      Close   Volume  Adj Close\n",
       "Date                                                                      \n",
       "2018-09-20  50.520000  50.340000  50.410000  50.490002  13000.0  48.506279\n",
       "2018-09-21  51.500000  50.400002  51.500000  50.400002  13700.0  48.419807\n",
       "2018-09-24  51.299999  50.119999  51.299999  50.240002  14300.0  48.266090\n",
       "2018-09-25  50.400002  50.200001  50.400002  50.250000  25800.0  48.275700\n",
       "2018-09-26  50.369999  50.020000  50.360001  50.020000  27000.0  48.054737"
      ]
     },
     "execution_count": 7,
     "metadata": {},
     "output_type": "execute_result"
    }
   ],
   "source": [
    "esgv = pdr.get_data_yahoo('ESGV')\n",
    "esgv.head()"
   ]
  },
  {
   "cell_type": "code",
   "execution_count": 45,
   "id": "a9a97e71",
   "metadata": {},
   "outputs": [
    {
     "data": {
      "text/plain": [
       "Date\n",
       "2018-09-20     NaN\n",
       "2018-09-21   -0.18\n",
       "2018-09-24   -0.32\n",
       "2018-09-25    0.02\n",
       "2018-09-26   -0.46\n",
       "Name: Return, dtype: float64"
      ]
     },
     "execution_count": 45,
     "metadata": {},
     "output_type": "execute_result"
    }
   ],
   "source": [
    "esgv['Return'] = round(np.log(esgv.Close).diff() * 100, 2)\n",
    "esgv['Return'].head()"
   ]
  },
  {
   "cell_type": "code",
   "execution_count": 58,
   "id": "710d7562",
   "metadata": {},
   "outputs": [
    {
     "data": {
      "text/plain": [
       "Date\n",
       "2018-09-21   -0.18\n",
       "2018-09-24   -0.32\n",
       "2018-09-25    0.02\n",
       "2018-09-26   -0.46\n",
       "2018-09-27    0.30\n",
       "Name: Return, dtype: float64"
      ]
     },
     "execution_count": 58,
     "metadata": {},
     "output_type": "execute_result"
    }
   ],
   "source": [
    "esgv.dropna(inplace=True)\n",
    "esgv['Return'].head()"
   ]
  },
  {
   "cell_type": "code",
   "execution_count": 59,
   "id": "fefe16eb",
   "metadata": {},
   "outputs": [
    {
     "data": {
      "text/plain": [
       "<AxesSubplot:xlabel='Date'>"
      ]
     },
     "execution_count": 59,
     "metadata": {},
     "output_type": "execute_result"
    },
    {
     "data": {
      "image/png": "[encoded data removed]",
      "text/plain": [
       "<Figure size 576x432 with 1 Axes>"
      ]
     },
     "metadata": {},
     "output_type": "display_data"
    }
   ],
   "source": [
    "esgv['Return'].plot()"
   ]
  },
  {
   "cell_type": "code",
   "execution_count": 60,
   "id": "84c15cf0",
   "metadata": {},
   "outputs": [
    {
     "data": {
      "text/plain": [
       "count    850.000000\n",
       "mean       0.055647\n",
       "std        1.429988\n",
       "min      -11.690000\n",
       "25%       -0.430000\n",
       "50%        0.105000\n",
       "75%        0.710000\n",
       "max        9.000000\n",
       "Name: Return, dtype: float64"
      ]
     },
     "execution_count": 60,
     "metadata": {},
     "output_type": "execute_result"
    }
   ],
   "source": [
    "esgv['Return'].describe()"
   ]
  },
  {
   "cell_type": "markdown",
   "id": "8522655a",
   "metadata": {},
   "source": [
    "### Price change Normal Distribution"
   ]
  },
  {
   "cell_type": "code",
   "execution_count": 19,
   "id": "4ce4f981",
   "metadata": {},
   "outputs": [],
   "source": [
    "from scipy import stats\n",
    "from scipy.stats import norm"
   ]
  },
  {
   "cell_type": "code",
   "execution_count": 69,
   "id": "f3ecedbb",
   "metadata": {},
   "outputs": [],
   "source": [
    "n, minmax, mean, var, skew, kurt = stats.describe(esgv['Return'])\n",
    "min, max = minmax\n",
    "std = var ** .5"
   ]
  },
  {
   "cell_type": "code",
   "execution_count": 70,
   "id": "a1a7c61e",
   "metadata": {},
   "outputs": [],
   "source": [
    "x = norm.rvs(mean, std, n)"
   ]
  },
  {
   "cell_type": "code",
   "execution_count": 71,
   "id": "0fef3e3c",
   "metadata": {},
   "outputs": [
    {
     "data": {
      "text/plain": [
       "DescribeResult(nobs=850, minmax=(-3.892635799858681, 4.328858761475449), mean=0.09288353765904678, variance=2.0288611879379683, skewness=0.03662679191300186, kurtosis=-0.30304814139305103)"
      ]
     },
     "execution_count": 71,
     "metadata": {},
     "output_type": "execute_result"
    }
   ],
   "source": [
    "stats.describe(x)"
   ]
  },
  {
   "cell_type": "code",
   "execution_count": 72,
   "id": "3cf60f73",
   "metadata": {},
   "outputs": [
    {
     "data": {
      "image/png": "[encoded data removed]",
      "text/plain": [
       "<Figure size 576x432 with 1 Axes>"
      ]
     },
     "metadata": {},
     "output_type": "display_data"
    }
   ],
   "source": [
    "plt.hist(x, bins=15);"
   ]
  },
  {
   "cell_type": "code",
   "execution_count": 75,
   "id": "d1216db0",
   "metadata": {},
   "outputs": [
    {
     "data": {
      "image/png": "[encoded data removed]",
      "text/plain": [
       "<Figure size 576x432 with 1 Axes>"
      ]
     },
     "metadata": {},
     "output_type": "display_data"
    }
   ],
   "source": [
    "plt.hist(esgv['Return'], bins=15);"
   ]
  },
  {
   "cell_type": "code",
   "execution_count": 74,
   "id": "469b55cc",
   "metadata": {},
   "outputs": [
    {
     "data": {
      "image/png": "[encoded data removed]",
      "text/plain": [
       "<Figure size 576x432 with 1 Axes>"
      ]
     },
     "metadata": {},
     "output_type": "display_data"
    }
   ],
   "source": [
    "plt.hist(esgv['Return'], bins=15, edgecolor='w', density=True)\n",
    "overlay = np.linspace(min, max, 100)\n",
    "plt.plot(overlay, norm.pdf(overlay, mean, std));"
   ]
  },
  {
   "cell_type": "markdown",
   "id": "9dd144f8",
   "metadata": {},
   "source": [
    "It is safe to say without further analysis that ESGV is not normally distributed."
   ]
  },
  {
   "cell_type": "markdown",
   "id": "1111dc6b",
   "metadata": {},
   "source": [
    "### Random Walk"
   ]
  },
  {
   "cell_type": "code",
   "execution_count": 78,
   "id": "e822491e",
   "metadata": {},
   "outputs": [
    {
     "data": {
      "text/html": [
       "<div>\n",
       "<style scoped>\n",
       "    .dataframe tbody tr th:only-of-type {\n",
       "        vertical-align: middle;\n",
       "    }\n",
       "\n",
       "    .dataframe tbody tr th {\n",
       "        vertical-align: top;\n",
       "    }\n",
       "\n",
       "    .dataframe thead th {\n",
       "        text-align: right;\n",
       "    }\n",
       "</style>\n",
       "<table border=\"1\" class=\"dataframe\">\n",
       "  <thead>\n",
       "    <tr style=\"text-align: right;\">\n",
       "      <th></th>\n",
       "      <th>Close</th>\n",
       "      <th>lag_1</th>\n",
       "      <th>lag_2</th>\n",
       "    </tr>\n",
       "    <tr>\n",
       "      <th>Date</th>\n",
       "      <th></th>\n",
       "      <th></th>\n",
       "      <th></th>\n",
       "    </tr>\n",
       "  </thead>\n",
       "  <tbody>\n",
       "    <tr>\n",
       "      <th>2018-09-25</th>\n",
       "      <td>50.250000</td>\n",
       "      <td>50.240002</td>\n",
       "      <td>50.400002</td>\n",
       "    </tr>\n",
       "    <tr>\n",
       "      <th>2018-09-26</th>\n",
       "      <td>50.020000</td>\n",
       "      <td>50.250000</td>\n",
       "      <td>50.240002</td>\n",
       "    </tr>\n",
       "    <tr>\n",
       "      <th>2018-09-27</th>\n",
       "      <td>50.169998</td>\n",
       "      <td>50.020000</td>\n",
       "      <td>50.250000</td>\n",
       "    </tr>\n",
       "    <tr>\n",
       "      <th>2018-09-28</th>\n",
       "      <td>50.189999</td>\n",
       "      <td>50.169998</td>\n",
       "      <td>50.020000</td>\n",
       "    </tr>\n",
       "    <tr>\n",
       "      <th>2018-10-01</th>\n",
       "      <td>50.250000</td>\n",
       "      <td>50.189999</td>\n",
       "      <td>50.169998</td>\n",
       "    </tr>\n",
       "  </tbody>\n",
       "</table>\n",
       "</div>"
      ],
      "text/plain": [
       "                Close      lag_1      lag_2\n",
       "Date                                       \n",
       "2018-09-25  50.250000  50.240002  50.400002\n",
       "2018-09-26  50.020000  50.250000  50.240002\n",
       "2018-09-27  50.169998  50.020000  50.250000\n",
       "2018-09-28  50.189999  50.169998  50.020000\n",
       "2018-10-01  50.250000  50.189999  50.169998"
      ]
     },
     "execution_count": 78,
     "metadata": {},
     "output_type": "execute_result"
    }
   ],
   "source": [
    "esgv_close = pd.DataFrame(esgv.Close, columns=['Close'])\n",
    "esgv_close['lag_1'] = esgv_close.Close.shift(1)\n",
    "esgv_close['lag_2'] = esgv_close.Close.shift(2)\n",
    "esgv_close.dropna(inplace=True)\n",
    "esgv_close.head()"
   ]
  },
  {
   "cell_type": "code",
   "execution_count": 81,
   "id": "dfbf7cf0",
   "metadata": {},
   "outputs": [],
   "source": [
    "#liner model\n",
    "lr = np.linalg.lstsq(esgv_close[['lag_1', 'lag_2']], esgv_close['Close'], rcond=None)[0]"
   ]
  },
  {
   "cell_type": "code",
   "execution_count": 82,
   "id": "105066a5",
   "metadata": {},
   "outputs": [],
   "source": [
    "esgv_close['predict'] = np.dot(esgv_close[['lag_1', 'lag_2']], lr)"
   ]
  },
  {
   "cell_type": "code",
   "execution_count": 83,
   "id": "74b5088e",
   "metadata": {},
   "outputs": [
    {
     "data": {
      "text/html": [
       "<div>\n",
       "<style scoped>\n",
       "    .dataframe tbody tr th:only-of-type {\n",
       "        vertical-align: middle;\n",
       "    }\n",
       "\n",
       "    .dataframe tbody tr th {\n",
       "        vertical-align: top;\n",
       "    }\n",
       "\n",
       "    .dataframe thead th {\n",
       "        text-align: right;\n",
       "    }\n",
       "</style>\n",
       "<table border=\"1\" class=\"dataframe\">\n",
       "  <thead>\n",
       "    <tr style=\"text-align: right;\">\n",
       "      <th></th>\n",
       "      <th>Close</th>\n",
       "      <th>lag_1</th>\n",
       "      <th>lag_2</th>\n",
       "      <th>predict</th>\n",
       "    </tr>\n",
       "    <tr>\n",
       "      <th>Date</th>\n",
       "      <th></th>\n",
       "      <th></th>\n",
       "      <th></th>\n",
       "      <th></th>\n",
       "    </tr>\n",
       "  </thead>\n",
       "  <tbody>\n",
       "    <tr>\n",
       "      <th>2018-09-25</th>\n",
       "      <td>50.250000</td>\n",
       "      <td>50.240002</td>\n",
       "      <td>50.400002</td>\n",
       "      <td>50.296141</td>\n",
       "    </tr>\n",
       "    <tr>\n",
       "      <th>2018-09-26</th>\n",
       "      <td>50.020000</td>\n",
       "      <td>50.250000</td>\n",
       "      <td>50.240002</td>\n",
       "      <td>50.279401</td>\n",
       "    </tr>\n",
       "    <tr>\n",
       "      <th>2018-09-27</th>\n",
       "      <td>50.169998</td>\n",
       "      <td>50.020000</td>\n",
       "      <td>50.250000</td>\n",
       "      <td>50.087017</td>\n",
       "    </tr>\n",
       "    <tr>\n",
       "      <th>2018-09-28</th>\n",
       "      <td>50.189999</td>\n",
       "      <td>50.169998</td>\n",
       "      <td>50.020000</td>\n",
       "      <td>50.177325</td>\n",
       "    </tr>\n",
       "    <tr>\n",
       "      <th>2018-10-01</th>\n",
       "      <td>50.250000</td>\n",
       "      <td>50.189999</td>\n",
       "      <td>50.169998</td>\n",
       "      <td>50.217789</td>\n",
       "    </tr>\n",
       "  </tbody>\n",
       "</table>\n",
       "</div>"
      ],
      "text/plain": [
       "                Close      lag_1      lag_2    predict\n",
       "Date                                                  \n",
       "2018-09-25  50.250000  50.240002  50.400002  50.296141\n",
       "2018-09-26  50.020000  50.250000  50.240002  50.279401\n",
       "2018-09-27  50.169998  50.020000  50.250000  50.087017\n",
       "2018-09-28  50.189999  50.169998  50.020000  50.177325\n",
       "2018-10-01  50.250000  50.189999  50.169998  50.217789"
      ]
     },
     "execution_count": 83,
     "metadata": {},
     "output_type": "execute_result"
    }
   ],
   "source": [
    "esgv_close.head()"
   ]
  },
  {
   "cell_type": "code",
   "execution_count": 86,
   "id": "8e767722",
   "metadata": {},
   "outputs": [
    {
     "data": {
      "text/plain": [
       "<AxesSubplot:xlabel='Date'>"
      ]
     },
     "execution_count": 86,
     "metadata": {},
     "output_type": "execute_result"
    },
    {
     "data": {
      "image/png": "[encoded data removed]",
      "text/plain": [
       "<Figure size 576x432 with 1 Axes>"
      ]
     },
     "metadata": {},
     "output_type": "display_data"
    }
   ],
   "source": [
    "esgv_close.iloc[-200:][['Close', 'predict']].plot()"
   ]
  },
  {
   "cell_type": "markdown",
   "id": "cb6cd322",
   "metadata": {},
   "source": [
    "### Momentum Trading Strategy"
   ]
  },
  {
   "cell_type": "markdown",
   "id": "94760829",
   "metadata": {},
   "source": [
    "Momentum trading is a strategy where an investor tries to understand the trend and seeks buying opportunities in short-term uptrends and sell when it loses momentum."
   ]
  },
  {
   "cell_type": "code",
   "execution_count": 18,
   "id": "9af46a9d",
   "metadata": {},
   "outputs": [],
   "source": [
    "#delete and create columns \n",
    "esgv.drop(columns=['Adj Close', 'Volume'], inplace=True)\n",
    "day = np.arange(1, len(esgv)+1)\n",
    "esgv['Day'] = day\n",
    "\n",
    "#column orders are rearranged \n",
    "esgv = esgv[['Day', 'Open', 'High', 'Low', 'Close']]"
   ]
  },
  {
   "cell_type": "markdown",
   "id": "01216904",
   "metadata": {},
   "source": [
    "The moving average help smooth out price data by creating a constantly update average price and random fluctuation on the stock in the specified time frame are mitigated."
   ]
  },
  {
   "cell_type": "code",
   "execution_count": 22,
   "id": "02ad3a83",
   "metadata": {},
   "outputs": [
    {
     "data": {
      "text/html": [
       "<div>\n",
       "<style scoped>\n",
       "    .dataframe tbody tr th:only-of-type {\n",
       "        vertical-align: middle;\n",
       "    }\n",
       "\n",
       "    .dataframe tbody tr th {\n",
       "        vertical-align: top;\n",
       "    }\n",
       "\n",
       "    .dataframe thead th {\n",
       "        text-align: right;\n",
       "    }\n",
       "</style>\n",
       "<table border=\"1\" class=\"dataframe\">\n",
       "  <thead>\n",
       "    <tr style=\"text-align: right;\">\n",
       "      <th></th>\n",
       "      <th>Day</th>\n",
       "      <th>Open</th>\n",
       "      <th>High</th>\n",
       "      <th>Low</th>\n",
       "      <th>Close</th>\n",
       "      <th>15-day</th>\n",
       "      <th>20-day</th>\n",
       "      <th>9-day</th>\n",
       "    </tr>\n",
       "    <tr>\n",
       "      <th>Date</th>\n",
       "      <th></th>\n",
       "      <th></th>\n",
       "      <th></th>\n",
       "      <th></th>\n",
       "      <th></th>\n",
       "      <th></th>\n",
       "      <th></th>\n",
       "      <th></th>\n",
       "    </tr>\n",
       "  </thead>\n",
       "  <tbody>\n",
       "    <tr>\n",
       "      <th>2018-10-03</th>\n",
       "      <td>10</td>\n",
       "      <td>50.419998</td>\n",
       "      <td>50.419998</td>\n",
       "      <td>50.209999</td>\n",
       "      <td>50.209999</td>\n",
       "      <td>NaN</td>\n",
       "      <td>NaN</td>\n",
       "      <td>50.237778</td>\n",
       "    </tr>\n",
       "    <tr>\n",
       "      <th>2018-10-04</th>\n",
       "      <td>11</td>\n",
       "      <td>50.230000</td>\n",
       "      <td>50.230000</td>\n",
       "      <td>49.459999</td>\n",
       "      <td>49.580002</td>\n",
       "      <td>NaN</td>\n",
       "      <td>NaN</td>\n",
       "      <td>50.206667</td>\n",
       "    </tr>\n",
       "    <tr>\n",
       "      <th>2018-10-05</th>\n",
       "      <td>12</td>\n",
       "      <td>49.720001</td>\n",
       "      <td>49.720001</td>\n",
       "      <td>49.040001</td>\n",
       "      <td>49.380001</td>\n",
       "      <td>NaN</td>\n",
       "      <td>NaN</td>\n",
       "      <td>50.115556</td>\n",
       "    </tr>\n",
       "    <tr>\n",
       "      <th>2018-10-08</th>\n",
       "      <td>13</td>\n",
       "      <td>49.340000</td>\n",
       "      <td>49.360001</td>\n",
       "      <td>48.840000</td>\n",
       "      <td>49.240002</td>\n",
       "      <td>NaN</td>\n",
       "      <td>NaN</td>\n",
       "      <td>50.020000</td>\n",
       "    </tr>\n",
       "    <tr>\n",
       "      <th>2018-10-09</th>\n",
       "      <td>14</td>\n",
       "      <td>49.230000</td>\n",
       "      <td>49.330002</td>\n",
       "      <td>49.070000</td>\n",
       "      <td>49.119999</td>\n",
       "      <td>NaN</td>\n",
       "      <td>NaN</td>\n",
       "      <td>49.907778</td>\n",
       "    </tr>\n",
       "    <tr>\n",
       "      <th>2018-10-10</th>\n",
       "      <td>15</td>\n",
       "      <td>49.130001</td>\n",
       "      <td>49.220001</td>\n",
       "      <td>47.509998</td>\n",
       "      <td>47.509998</td>\n",
       "      <td>NaN</td>\n",
       "      <td>NaN</td>\n",
       "      <td>49.807778</td>\n",
       "    </tr>\n",
       "    <tr>\n",
       "      <th>2018-10-11</th>\n",
       "      <td>16</td>\n",
       "      <td>47.490002</td>\n",
       "      <td>47.509998</td>\n",
       "      <td>46.380001</td>\n",
       "      <td>46.610001</td>\n",
       "      <td>49.812000</td>\n",
       "      <td>NaN</td>\n",
       "      <td>49.512222</td>\n",
       "    </tr>\n",
       "    <tr>\n",
       "      <th>2018-10-12</th>\n",
       "      <td>17</td>\n",
       "      <td>47.540001</td>\n",
       "      <td>47.540001</td>\n",
       "      <td>46.680000</td>\n",
       "      <td>47.299999</td>\n",
       "      <td>49.553334</td>\n",
       "      <td>NaN</td>\n",
       "      <td>49.114445</td>\n",
       "    </tr>\n",
       "    <tr>\n",
       "      <th>2018-10-15</th>\n",
       "      <td>18</td>\n",
       "      <td>47.389999</td>\n",
       "      <td>47.389999</td>\n",
       "      <td>46.970001</td>\n",
       "      <td>47.020000</td>\n",
       "      <td>49.346667</td>\n",
       "      <td>NaN</td>\n",
       "      <td>48.786667</td>\n",
       "    </tr>\n",
       "    <tr>\n",
       "      <th>2018-10-16</th>\n",
       "      <td>19</td>\n",
       "      <td>47.580002</td>\n",
       "      <td>48.160000</td>\n",
       "      <td>47.340000</td>\n",
       "      <td>48.130001</td>\n",
       "      <td>49.132000</td>\n",
       "      <td>NaN</td>\n",
       "      <td>48.441111</td>\n",
       "    </tr>\n",
       "    <tr>\n",
       "      <th>2018-10-17</th>\n",
       "      <td>20</td>\n",
       "      <td>48.189999</td>\n",
       "      <td>48.209999</td>\n",
       "      <td>47.680000</td>\n",
       "      <td>48.070000</td>\n",
       "      <td>48.990667</td>\n",
       "      <td>NaN</td>\n",
       "      <td>48.210000</td>\n",
       "    </tr>\n",
       "    <tr>\n",
       "      <th>2018-10-18</th>\n",
       "      <td>21</td>\n",
       "      <td>48.099998</td>\n",
       "      <td>48.099998</td>\n",
       "      <td>47.110001</td>\n",
       "      <td>47.340000</td>\n",
       "      <td>48.860667</td>\n",
       "      <td>49.2155</td>\n",
       "      <td>48.042222</td>\n",
       "    </tr>\n",
       "    <tr>\n",
       "      <th>2018-10-19</th>\n",
       "      <td>22</td>\n",
       "      <td>47.720001</td>\n",
       "      <td>47.799999</td>\n",
       "      <td>47.169998</td>\n",
       "      <td>47.209999</td>\n",
       "      <td>48.672000</td>\n",
       "      <td>49.0580</td>\n",
       "      <td>47.815556</td>\n",
       "    </tr>\n",
       "    <tr>\n",
       "      <th>2018-10-22</th>\n",
       "      <td>23</td>\n",
       "      <td>47.480000</td>\n",
       "      <td>47.490002</td>\n",
       "      <td>46.980000</td>\n",
       "      <td>47.090000</td>\n",
       "      <td>48.473333</td>\n",
       "      <td>48.8985</td>\n",
       "      <td>47.590000</td>\n",
       "    </tr>\n",
       "    <tr>\n",
       "      <th>2018-10-23</th>\n",
       "      <td>24</td>\n",
       "      <td>47.000000</td>\n",
       "      <td>47.009998</td>\n",
       "      <td>45.990002</td>\n",
       "      <td>46.959999</td>\n",
       "      <td>48.262667</td>\n",
       "      <td>48.7410</td>\n",
       "      <td>47.364444</td>\n",
       "    </tr>\n",
       "    <tr>\n",
       "      <th>2018-10-24</th>\n",
       "      <td>25</td>\n",
       "      <td>46.900002</td>\n",
       "      <td>46.900002</td>\n",
       "      <td>45.299999</td>\n",
       "      <td>45.299999</td>\n",
       "      <td>48.051333</td>\n",
       "      <td>48.5765</td>\n",
       "      <td>47.303333</td>\n",
       "    </tr>\n",
       "  </tbody>\n",
       "</table>\n",
       "</div>"
      ],
      "text/plain": [
       "            Day       Open       High        Low      Close     15-day  \\\n",
       "Date                                                                     \n",
       "2018-10-03   10  50.419998  50.419998  50.209999  50.209999        NaN   \n",
       "2018-10-04   11  50.230000  50.230000  49.459999  49.580002        NaN   \n",
       "2018-10-05   12  49.720001  49.720001  49.040001  49.380001        NaN   \n",
       "2018-10-08   13  49.340000  49.360001  48.840000  49.240002        NaN   \n",
       "2018-10-09   14  49.230000  49.330002  49.070000  49.119999        NaN   \n",
       "2018-10-10   15  49.130001  49.220001  47.509998  47.509998        NaN   \n",
       "2018-10-11   16  47.490002  47.509998  46.380001  46.610001  49.812000   \n",
       "2018-10-12   17  47.540001  47.540001  46.680000  47.299999  49.553334   \n",
       "2018-10-15   18  47.389999  47.389999  46.970001  47.020000  49.346667   \n",
       "2018-10-16   19  47.580002  48.160000  47.340000  48.130001  49.132000   \n",
       "2018-10-17   20  48.189999  48.209999  47.680000  48.070000  48.990667   \n",
       "2018-10-18   21  48.099998  48.099998  47.110001  47.340000  48.860667   \n",
       "2018-10-19   22  47.720001  47.799999  47.169998  47.209999  48.672000   \n",
       "2018-10-22   23  47.480000  47.490002  46.980000  47.090000  48.473333   \n",
       "2018-10-23   24  47.000000  47.009998  45.990002  46.959999  48.262667   \n",
       "2018-10-24   25  46.900002  46.900002  45.299999  45.299999  48.051333   \n",
       "\n",
       "             20-day      9-day  \n",
       "Date                            \n",
       "2018-10-03      NaN  50.237778  \n",
       "2018-10-04      NaN  50.206667  \n",
       "2018-10-05      NaN  50.115556  \n",
       "2018-10-08      NaN  50.020000  \n",
       "2018-10-09      NaN  49.907778  \n",
       "2018-10-10      NaN  49.807778  \n",
       "2018-10-11      NaN  49.512222  \n",
       "2018-10-12      NaN  49.114445  \n",
       "2018-10-15      NaN  48.786667  \n",
       "2018-10-16      NaN  48.441111  \n",
       "2018-10-17      NaN  48.210000  \n",
       "2018-10-18  49.2155  48.042222  \n",
       "2018-10-19  49.0580  47.815556  \n",
       "2018-10-22  48.8985  47.590000  \n",
       "2018-10-23  48.7410  47.364444  \n",
       "2018-10-24  48.5765  47.303333  "
      ]
     },
     "execution_count": 22,
     "metadata": {},
     "output_type": "execute_result"
    }
   ],
   "source": [
    "#moving average\n",
    "esgv['9-day'] = esgv['Close'].rolling(9).mean().shift()\n",
    "esgv['20-day'] = esgv['Close'].rolling(20).mean().shift()\n",
    "esgv[9:25]"
   ]
  },
  {
   "cell_type": "code",
   "execution_count": 29,
   "id": "176484e3",
   "metadata": {},
   "outputs": [
    {
     "data": {
      "text/html": [
       "<div>\n",
       "<style scoped>\n",
       "    .dataframe tbody tr th:only-of-type {\n",
       "        vertical-align: middle;\n",
       "    }\n",
       "\n",
       "    .dataframe tbody tr th {\n",
       "        vertical-align: top;\n",
       "    }\n",
       "\n",
       "    .dataframe thead th {\n",
       "        text-align: right;\n",
       "    }\n",
       "</style>\n",
       "<table border=\"1\" class=\"dataframe\">\n",
       "  <thead>\n",
       "    <tr style=\"text-align: right;\">\n",
       "      <th></th>\n",
       "      <th>Day</th>\n",
       "      <th>Open</th>\n",
       "      <th>High</th>\n",
       "      <th>Low</th>\n",
       "      <th>Close</th>\n",
       "      <th>15-day</th>\n",
       "      <th>20-day</th>\n",
       "      <th>9-day</th>\n",
       "      <th>Signal</th>\n",
       "      <th>Return</th>\n",
       "      <th>System_return</th>\n",
       "    </tr>\n",
       "    <tr>\n",
       "      <th>Date</th>\n",
       "      <th></th>\n",
       "      <th></th>\n",
       "      <th></th>\n",
       "      <th></th>\n",
       "      <th></th>\n",
       "      <th></th>\n",
       "      <th></th>\n",
       "      <th></th>\n",
       "      <th></th>\n",
       "      <th></th>\n",
       "      <th></th>\n",
       "    </tr>\n",
       "  </thead>\n",
       "  <tbody>\n",
       "    <tr>\n",
       "      <th>2022-01-31</th>\n",
       "      <td>847</td>\n",
       "      <td>79.730003</td>\n",
       "      <td>81.610001</td>\n",
       "      <td>79.500000</td>\n",
       "      <td>81.589996</td>\n",
       "      <td>81.993332</td>\n",
       "      <td>83.277999</td>\n",
       "      <td>79.852222</td>\n",
       "      <td>-1</td>\n",
       "      <td>0.023437</td>\n",
       "      <td>-0.023437</td>\n",
       "    </tr>\n",
       "    <tr>\n",
       "      <th>2022-02-01</th>\n",
       "      <td>848</td>\n",
       "      <td>81.830002</td>\n",
       "      <td>82.190002</td>\n",
       "      <td>80.919998</td>\n",
       "      <td>81.949997</td>\n",
       "      <td>81.756666</td>\n",
       "      <td>82.962999</td>\n",
       "      <td>79.714444</td>\n",
       "      <td>-1</td>\n",
       "      <td>0.004403</td>\n",
       "      <td>-0.004403</td>\n",
       "    </tr>\n",
       "    <tr>\n",
       "      <th>2022-02-02</th>\n",
       "      <td>849</td>\n",
       "      <td>82.709999</td>\n",
       "      <td>82.779999</td>\n",
       "      <td>81.940002</td>\n",
       "      <td>82.650002</td>\n",
       "      <td>81.551999</td>\n",
       "      <td>82.645499</td>\n",
       "      <td>79.716665</td>\n",
       "      <td>-1</td>\n",
       "      <td>0.008506</td>\n",
       "      <td>-0.008506</td>\n",
       "    </tr>\n",
       "    <tr>\n",
       "      <th>2022-02-03</th>\n",
       "      <td>850</td>\n",
       "      <td>81.419998</td>\n",
       "      <td>81.769997</td>\n",
       "      <td>80.290001</td>\n",
       "      <td>80.500000</td>\n",
       "      <td>81.336666</td>\n",
       "      <td>82.381999</td>\n",
       "      <td>79.903332</td>\n",
       "      <td>-1</td>\n",
       "      <td>-0.026358</td>\n",
       "      <td>0.026358</td>\n",
       "    </tr>\n",
       "    <tr>\n",
       "      <th>2022-02-04</th>\n",
       "      <td>851</td>\n",
       "      <td>80.550003</td>\n",
       "      <td>81.730003</td>\n",
       "      <td>80.040001</td>\n",
       "      <td>81.080002</td>\n",
       "      <td>80.968666</td>\n",
       "      <td>82.115499</td>\n",
       "      <td>80.037777</td>\n",
       "      <td>-1</td>\n",
       "      <td>0.007179</td>\n",
       "      <td>-0.007179</td>\n",
       "    </tr>\n",
       "  </tbody>\n",
       "</table>\n",
       "</div>"
      ],
      "text/plain": [
       "            Day       Open       High        Low      Close     15-day  \\\n",
       "Date                                                                     \n",
       "2022-01-31  847  79.730003  81.610001  79.500000  81.589996  81.993332   \n",
       "2022-02-01  848  81.830002  82.190002  80.919998  81.949997  81.756666   \n",
       "2022-02-02  849  82.709999  82.779999  81.940002  82.650002  81.551999   \n",
       "2022-02-03  850  81.419998  81.769997  80.290001  80.500000  81.336666   \n",
       "2022-02-04  851  80.550003  81.730003  80.040001  81.080002  80.968666   \n",
       "\n",
       "               20-day      9-day  Signal    Return  System_return  \n",
       "Date                                                               \n",
       "2022-01-31  83.277999  79.852222      -1  0.023437      -0.023437  \n",
       "2022-02-01  82.962999  79.714444      -1  0.004403      -0.004403  \n",
       "2022-02-02  82.645499  79.716665      -1  0.008506      -0.008506  \n",
       "2022-02-03  82.381999  79.903332      -1 -0.026358       0.026358  \n",
       "2022-02-04  82.115499  80.037777      -1  0.007179      -0.007179  "
      ]
     },
     "execution_count": 29,
     "metadata": {},
     "output_type": "execute_result"
    }
   ],
   "source": [
    "#signal column\n",
    "esgv['Signal'] = np.where(esgv['9-day'] > esgv['20-day'], 1, 0)\n",
    "esgv['Signal'] = np.where(esgv['9-day'] < esgv['20-day'], -1, esgv['Signal'])\n",
    "esgv.dropna(inplace=True)\n",
    "esgv.tail()"
   ]
  },
  {
   "cell_type": "code",
   "execution_count": 32,
   "id": "f0531e99",
   "metadata": {},
   "outputs": [
    {
     "data": {
      "text/html": [
       "<div>\n",
       "<style scoped>\n",
       "    .dataframe tbody tr th:only-of-type {\n",
       "        vertical-align: middle;\n",
       "    }\n",
       "\n",
       "    .dataframe tbody tr th {\n",
       "        vertical-align: top;\n",
       "    }\n",
       "\n",
       "    .dataframe thead th {\n",
       "        text-align: right;\n",
       "    }\n",
       "</style>\n",
       "<table border=\"1\" class=\"dataframe\">\n",
       "  <thead>\n",
       "    <tr style=\"text-align: right;\">\n",
       "      <th></th>\n",
       "      <th>Day</th>\n",
       "      <th>Open</th>\n",
       "      <th>High</th>\n",
       "      <th>Low</th>\n",
       "      <th>Close</th>\n",
       "      <th>15-day</th>\n",
       "      <th>20-day</th>\n",
       "      <th>9-day</th>\n",
       "      <th>Signal</th>\n",
       "      <th>Return</th>\n",
       "      <th>System_return</th>\n",
       "      <th>entry</th>\n",
       "      <th>Entry</th>\n",
       "    </tr>\n",
       "    <tr>\n",
       "      <th>Date</th>\n",
       "      <th></th>\n",
       "      <th></th>\n",
       "      <th></th>\n",
       "      <th></th>\n",
       "      <th></th>\n",
       "      <th></th>\n",
       "      <th></th>\n",
       "      <th></th>\n",
       "      <th></th>\n",
       "      <th></th>\n",
       "      <th></th>\n",
       "      <th></th>\n",
       "      <th></th>\n",
       "    </tr>\n",
       "  </thead>\n",
       "  <tbody>\n",
       "    <tr>\n",
       "      <th>2018-10-19</th>\n",
       "      <td>22</td>\n",
       "      <td>47.720001</td>\n",
       "      <td>47.799999</td>\n",
       "      <td>47.169998</td>\n",
       "      <td>47.209999</td>\n",
       "      <td>48.672000</td>\n",
       "      <td>49.0580</td>\n",
       "      <td>47.815556</td>\n",
       "      <td>-1</td>\n",
       "      <td>NaN</td>\n",
       "      <td>NaN</td>\n",
       "      <td>NaN</td>\n",
       "      <td>NaN</td>\n",
       "    </tr>\n",
       "    <tr>\n",
       "      <th>2018-10-22</th>\n",
       "      <td>23</td>\n",
       "      <td>47.480000</td>\n",
       "      <td>47.490002</td>\n",
       "      <td>46.980000</td>\n",
       "      <td>47.090000</td>\n",
       "      <td>48.473333</td>\n",
       "      <td>48.8985</td>\n",
       "      <td>47.590000</td>\n",
       "      <td>-1</td>\n",
       "      <td>-0.002545</td>\n",
       "      <td>0.002545</td>\n",
       "      <td>0.0</td>\n",
       "      <td>0.0</td>\n",
       "    </tr>\n",
       "    <tr>\n",
       "      <th>2018-10-23</th>\n",
       "      <td>24</td>\n",
       "      <td>47.000000</td>\n",
       "      <td>47.009998</td>\n",
       "      <td>45.990002</td>\n",
       "      <td>46.959999</td>\n",
       "      <td>48.262667</td>\n",
       "      <td>48.7410</td>\n",
       "      <td>47.364444</td>\n",
       "      <td>-1</td>\n",
       "      <td>-0.002765</td>\n",
       "      <td>0.002765</td>\n",
       "      <td>0.0</td>\n",
       "      <td>0.0</td>\n",
       "    </tr>\n",
       "    <tr>\n",
       "      <th>2018-10-24</th>\n",
       "      <td>25</td>\n",
       "      <td>46.900002</td>\n",
       "      <td>46.900002</td>\n",
       "      <td>45.299999</td>\n",
       "      <td>45.299999</td>\n",
       "      <td>48.051333</td>\n",
       "      <td>48.5765</td>\n",
       "      <td>47.303333</td>\n",
       "      <td>-1</td>\n",
       "      <td>-0.035989</td>\n",
       "      <td>0.035989</td>\n",
       "      <td>0.0</td>\n",
       "      <td>0.0</td>\n",
       "    </tr>\n",
       "    <tr>\n",
       "      <th>2018-10-25</th>\n",
       "      <td>26</td>\n",
       "      <td>45.689999</td>\n",
       "      <td>46.369999</td>\n",
       "      <td>45.639999</td>\n",
       "      <td>46.349998</td>\n",
       "      <td>47.724000</td>\n",
       "      <td>48.3405</td>\n",
       "      <td>47.157778</td>\n",
       "      <td>-1</td>\n",
       "      <td>0.022914</td>\n",
       "      <td>-0.022914</td>\n",
       "      <td>0.0</td>\n",
       "      <td>0.0</td>\n",
       "    </tr>\n",
       "  </tbody>\n",
       "</table>\n",
       "</div>"
      ],
      "text/plain": [
       "            Day       Open       High        Low      Close     15-day  \\\n",
       "Date                                                                     \n",
       "2018-10-19   22  47.720001  47.799999  47.169998  47.209999  48.672000   \n",
       "2018-10-22   23  47.480000  47.490002  46.980000  47.090000  48.473333   \n",
       "2018-10-23   24  47.000000  47.009998  45.990002  46.959999  48.262667   \n",
       "2018-10-24   25  46.900002  46.900002  45.299999  45.299999  48.051333   \n",
       "2018-10-25   26  45.689999  46.369999  45.639999  46.349998  47.724000   \n",
       "\n",
       "             20-day      9-day  Signal    Return  System_return  entry  Entry  \n",
       "Date                                                                           \n",
       "2018-10-19  49.0580  47.815556      -1       NaN            NaN    NaN    NaN  \n",
       "2018-10-22  48.8985  47.590000      -1 -0.002545       0.002545    0.0    0.0  \n",
       "2018-10-23  48.7410  47.364444      -1 -0.002765       0.002765    0.0    0.0  \n",
       "2018-10-24  48.5765  47.303333      -1 -0.035989       0.035989    0.0    0.0  \n",
       "2018-10-25  48.3405  47.157778      -1  0.022914      -0.022914    0.0    0.0  "
      ]
     },
     "execution_count": 32,
     "metadata": {},
     "output_type": "execute_result"
    }
   ],
   "source": [
    "esgv['Return'] = np.log(esgv['Close']).diff()\n",
    "esgv['System_return'] = esgv['Signal'] * esgv['Return']\n",
    "esgv['Entry'] = esgv.Signal.diff()\n",
    "esgv.head()"
   ]
  },
  {
   "cell_type": "code",
   "execution_count": 51,
   "id": "a0b38ea2",
   "metadata": {},
   "outputs": [
    {
     "data": {
      "text/plain": [
       "<matplotlib.legend.Legend at 0xad38b50>"
      ]
     },
     "execution_count": 51,
     "metadata": {},
     "output_type": "execute_result"
    },
    {
     "data": {
      "image/png": "[encoded data removed]",
      "text/plain": [
       "<Figure size 864x432 with 1 Axes>"
      ]
     },
     "metadata": {
      "needs_background": "light"
     },
     "output_type": "display_data"
    }
   ],
   "source": [
    "plt.rcParams['figure.figsize'] = 12, 6 \n",
    "plt.grid(True, alpha = .3)\n",
    "plt.plot(esgv[-550:]['Close'], label = 'ESGV')\n",
    "plt.plot(esgv[-550:]['9-day'], label = '9-day')\n",
    "plt.plot(esgv[-550:]['20-day'], label = '20-day')\n",
    "plt.plot(esgv[-550:].loc[esgv.Entry == 2].index, esgv[-550:]['9-day'][esgv.Entry == 2], \n",
    "         '^', color='r', markersize = 12)\n",
    "plt.plot(esgv[-550:].loc[esgv.Entry == -2].index, esgv[-550:]['20-day'][esgv.Entry == -2],\n",
    "         'v', color='b', markersize = 12)\n",
    "plt.legend(loc=2)"
   ]
  },
  {
   "cell_type": "code",
   "execution_count": 54,
   "id": "cc8f40f3",
   "metadata": {},
   "outputs": [
    {
     "data": {
      "image/png": "[encoded data removed]",
      "text/plain": [
       "<Figure size 864x432 with 1 Axes>"
      ]
     },
     "metadata": {
      "needs_background": "light"
     },
     "output_type": "display_data"
    }
   ],
   "source": [
    "plt.plot(np.exp(esgv['Return']).cumprod(), label='Buy/Hold')\n",
    "plt.plot(np.exp(esgv['System_return']).cumprod(), label='System')\n",
    "plt.legend(loc=2)\n",
    "plt.grid(True, alpha=.3)"
   ]
  }
 ],
 "metadata": {
  "kernelspec": {
   "display_name": "Python 3",
   "language": "python",
   "name": "python3"
  },
  "language_info": {
   "codemirror_mode": {
    "name": "ipython",
    "version": 3
   },
   "file_extension": ".py",
   "mimetype": "text/x-python",
   "name": "python",
   "nbconvert_exporter": "python",
   "pygments_lexer": "ipython3",
   "version": "3.8.8"
  }
 },
 "nbformat": 4,
 "nbformat_minor": 5
}
